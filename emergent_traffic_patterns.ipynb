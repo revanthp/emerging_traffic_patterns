{
  "nbformat": 4,
  "nbformat_minor": 0,
  "metadata": {
    "colab": {
      "name": "emergent_traffic_patterns.ipynb",
      "provenance": [],
      "collapsed_sections": [],
      "include_colab_link": true
    },
    "kernelspec": {
      "name": "python3",
      "display_name": "Python 3"
    }
  },
  "cells": [
    {
      "cell_type": "markdown",
      "metadata": {
        "id": "view-in-github",
        "colab_type": "text"
      },
      "source": [
        "<a href=\"https://colab.research.google.com/github/revanthp/emerging_traffic_patterns/blob/master/emergent_traffic_patterns.ipynb\" target=\"_parent\"><img src=\"https://colab.research.google.com/assets/colab-badge.svg\" alt=\"Open In Colab\"/></a>"
      ]
    },
    {
      "cell_type": "markdown",
      "metadata": {
        "id": "w1Bc9QLulr85",
        "colab_type": "text"
      },
      "source": [
        "# Emergent Traffic Patterns"
      ]
    },
    {
      "cell_type": "code",
      "metadata": {
        "id": "-ukACg_7gdMU",
        "colab_type": "code",
        "colab": {}
      },
      "source": [
        "import warnings\n",
        "warnings.simplefilter(action='ignore', category=FutureWarning)\n",
        "\n",
        "import random\n",
        "import numpy as np\n",
        "import pandas as pd\n",
        "import matplotlib.pyplot as plt\n",
        "from multiprocessing import Pool\n",
        "\n",
        "%matplotlib inline"
      ],
      "execution_count": 0,
      "outputs": []
    },
    {
      "cell_type": "code",
      "metadata": {
        "id": "vAy2E1bShQJS",
        "colab_type": "code",
        "colab": {}
      },
      "source": [
        "# Declare global variables\n",
        "L = 30000\n",
        "V_MAX = 5\n",
        "INIT_N_GAP_MAX = 100 # Chosen randomly for max gap.\n",
        "MAX_ITER = 3 * 10**6\n",
        "TRANSIENT = 5 * 10**5 # Number of iterations after which we start recording\n",
        "STEP = 2500 # Record for every 2500 iterations\n",
        "SEED = 1234 # to ensure every run is the same. \n",
        "RHO_MIN = 0.04\n",
        "RHO_MAX = 0.14\n",
        "RHO_STEPS = 11"
      ],
      "execution_count": 0,
      "outputs": []
    },
    {
      "cell_type": "code",
      "metadata": {
        "id": "wVjbjJMkMfu9",
        "colab_type": "code",
        "colab": {}
      },
      "source": [
        "# spare code for testing\n",
        "# N = 6\n",
        "# # temp_vel = np.random.randint(low=0, high=V_MAX + 1, size = N)\n",
        "# # temp_ngap = np.random.randint(low=0, high=round(L-N), size=N)\n",
        "# # temp_ngap = np.round(temp_ngap * ((L-N) / np.sum(temp_ngap)))\n",
        "\n",
        "# temp_vel =np.array([5, 5, 3, 2, 4, 5])\n",
        "# temp_ngap = np.array([5, 6, 4, 6, 3, 2])\n",
        "\n",
        "# # assert all(update_velocity(temp_vel, temp_ngap) == update_velocity_vectorized(temp_vel, temp_ngap))\n",
        "# np.random.seed(1234)\n",
        "# [update_velocity(v, n) for v, n in zip(temp_vel, temp_ngap)]"
      ],
      "execution_count": 0,
      "outputs": []
    },
    {
      "cell_type": "code",
      "metadata": {
        "colab_type": "code",
        "id": "uPW0Yyxe_aRY",
        "colab": {}
      },
      "source": [
        "V = []\n",
        "Ng = []\n",
        "\n",
        "# Simulation\n",
        "def simulation(rho=0.04, test=0, save_run=False):\n",
        "  \n",
        "    print('Running simulation for rho = {0}'.format(rho))\n",
        "  \n",
        "    # set random seed to keep things consistent between runs\n",
        "    np.random.seed(1234)\n",
        "    \n",
        "    # number of cars for a rho\n",
        "    N = np.int(rho * L)\n",
        "\n",
        "    # randomly generate velocities and ngaps for each car\n",
        "    if test==5:\n",
        "      v = (np.ones(N) * 5).reshape((1, -1))\n",
        "      ngaps = (np.ones(N) * 5).reshape((1, -1))\n",
        "    else:\n",
        "      v = np.random.randint(low=0, high=(V_MAX + 1), size=N).reshape((1, -1))\n",
        "      ngaps = np.random.randint(low=0, high=(L - N), size=N).reshape((1, -1))\n",
        "      # normalize the gaps to sum to (length of car - total num. of car).\n",
        "      ngaps = np.round(ngaps * (L-N) / np.sum(ngaps)).astype(int).reshape((1, -1))\n",
        "\n",
        "    if save_run:\n",
        "      V.append(v)\n",
        "      Ng.append(ngaps)\n",
        "\n",
        "    # list to store current_density at every 2500 time steps.\n",
        "    j_i = []\n",
        "  \n",
        "    # update car position max. iteration times.\n",
        "    for iter_ in range(MAX_ITER):\n",
        "\n",
        "        # boolean array identifying cars about to accelerate as True and rest as False.\n",
        "        acc_mask = (ngaps >= (v + 1)) & (v < V_MAX)\n",
        "\n",
        "        # boolean array identifying cars about to deaccelerate as True and rest as False.\n",
        "        deacc_mask = (ngaps <= (v - 1)) & ~acc_mask\n",
        "        \n",
        "        # Update velocity for accelerating cars.\n",
        "        v[acc_mask] += np.random.randint(0, 2, np.sum(acc_mask))\n",
        "\n",
        "        # Update velocity for deaccelerating cars.\n",
        "        v[deacc_mask] = np.fmax(0, ngaps[deacc_mask] - np.random.randint(0, 2, np.sum(deacc_mask)))\n",
        "\n",
        "        # update ngaps for each car.\n",
        "        ngaps = ngaps - v + np.append(v[0, 1:], V_MAX).reshape((1, -1)) # car towards the end of road (L) has no traffic ahead of it and moves freely.\n",
        "\n",
        "        if save_run:\n",
        "          V.append(v)\n",
        "          Ng.append(ngaps)\n",
        "\n",
        "        if test==5 and iter_ <= 5:\n",
        "          continue\n",
        "\n",
        "        # if all cars are moving at maximum speed and have enough gap to move, \n",
        "        # then we have reached a stationary state and j = rho * V_MAX,\n",
        "        # and we stop the simulation.\n",
        "        if np.all(v == V_MAX) & np.all(ngaps >= V_MAX):\n",
        "            print({'Early stopping triggered at iteration {0} for rho={1}.'.format(iter_, rho)})\n",
        "            return {rho: np.round(rho * V_MAX, 3)}\n",
        "            \n",
        "        # Record current denisty after TRANSIENT and for every 2500 steps.\n",
        "        if (iter_ >= TRANSIENT) and ((iter_ % STEP) == 0):\n",
        "            j_i.append(np.sum(v) / L) # save the average_velocity\n",
        "\n",
        "    # Return the average of current densities for a given rho\n",
        "    return {rho:np.round(np.mean(j_i), 3)}"
      ],
      "execution_count": 0,
      "outputs": []
    },
    {
      "cell_type": "code",
      "metadata": {
        "id": "1c3GW42yqBZg",
        "colab_type": "code",
        "outputId": "0cd5f032-95e8-4f58-b242-e1814f2cc8a5",
        "colab": {
          "base_uri": "https://localhost:8080/",
          "height": 391
        }
      },
      "source": [
        "# Simulation for each rho is run on a separate core.\n",
        "p = Pool(RHO_STEPS)\n",
        "out = p.map(simulation, np.linspace(RHO_MIN, RHO_MAX, RHO_STEPS))"
      ],
      "execution_count": 5,
      "outputs": [
        {
          "output_type": "stream",
          "text": [
            "Running simulation for rho = 0.1\n",
            "Running simulation for rho = 0.12\n",
            "Running simulation for rho = 0.06\n",
            "Running simulation for rho = 0.08\n",
            "Running simulation for rho = 0.04\n",
            "Running simulation for rho = 0.05\n",
            "Running simulation for rho = 0.09\n",
            "Running simulation for rho = 0.07\n",
            "Running simulation for rho = 0.13\n",
            "Running simulation for rho = 0.14\n",
            "Running simulation for rho = 0.11000000000000001\n",
            "{'Early stopping triggered at iteration 52 for rho=0.04.'}\n",
            "{'Early stopping triggered at iteration 104 for rho=0.05.'}\n",
            "{'Early stopping triggered at iteration 108 for rho=0.06.'}\n",
            "{'Early stopping triggered at iteration 296 for rho=0.07.'}\n",
            "{'Early stopping triggered at iteration 1135 for rho=0.08.'}\n",
            "{'Early stopping triggered at iteration 6064 for rho=0.09.'}\n",
            "{'Early stopping triggered at iteration 7248 for rho=0.1.'}\n",
            "{'Early stopping triggered at iteration 7547 for rho=0.11000000000000001.'}\n",
            "{'Early stopping triggered at iteration 8903 for rho=0.12.'}\n",
            "{'Early stopping triggered at iteration 9358 for rho=0.13.'}\n",
            "{'Early stopping triggered at iteration 10282 for rho=0.14.'}\n"
          ],
          "name": "stdout"
        }
      ]
    },
    {
      "cell_type": "code",
      "metadata": {
        "id": "3Jz8ERnpqEh_",
        "colab_type": "code",
        "outputId": "036b172d-9c3d-4d20-e5cb-0493d67b3ac9",
        "colab": {
          "base_uri": "https://localhost:8080/",
          "height": 204
        }
      },
      "source": [
        "# Convert list of dictionary to dictionary.\n",
        "results = dict()\n",
        "[results.update(x) for x in out];\n",
        "results"
      ],
      "execution_count": 6,
      "outputs": [
        {
          "output_type": "execute_result",
          "data": {
            "text/plain": [
              "{0.04: 0.2,\n",
              " 0.05: 0.25,\n",
              " 0.06: 0.3,\n",
              " 0.07: 0.35,\n",
              " 0.08: 0.4,\n",
              " 0.09: 0.45,\n",
              " 0.1: 0.5,\n",
              " 0.11000000000000001: 0.55,\n",
              " 0.12: 0.6,\n",
              " 0.13: 0.65,\n",
              " 0.14: 0.7}"
            ]
          },
          "metadata": {
            "tags": []
          },
          "execution_count": 6
        }
      ]
    },
    {
      "cell_type": "code",
      "metadata": {
        "id": "TKqdzZqHqHU5",
        "colab_type": "code",
        "outputId": "ad6aa81d-5e2f-4c81-bb98-82ce27cdee8a",
        "colab": {
          "base_uri": "https://localhost:8080/",
          "height": 295
        }
      },
      "source": [
        "# Plotting.\n",
        "plt.plot(list(results.keys()), list(results.values()), 'x')\n",
        "plt.plot([RHO_MIN, RHO_MAX], [RHO_MIN * V_MAX, RHO_MAX * V_MAX], '--', color='grey')\n",
        "plt.xlim([RHO_MIN, RHO_MAX])\n",
        "plt.ylim([0, RHO_MAX * V_MAX])\n",
        "plt.title('Fig{}: Current density vs rho'.format(1))\n",
        "plt.xlabel('rho')\n",
        "plt.ylabel('current density j(rho)')\n",
        "plt.show()"
      ],
      "execution_count": 62,
      "outputs": [
        {
          "output_type": "display_data",
          "data": {
            "image/png": "[encoded data removed]",
            "text/plain": [
              "<Figure size 432x288 with 1 Axes>"
            ]
          },
          "metadata": {
            "tags": [],
            "needs_background": "light"
          }
        }
      ]
    },
    {
      "cell_type": "markdown",
      "metadata": {
        "id": "Ksnbva9JwNEM",
        "colab_type": "text"
      },
      "source": [
        "## Simulating traffic evolution with initial constraint of rho=0.14\n",
        "\n"
      ]
    },
    {
      "cell_type": "code",
      "metadata": {
        "id": "7h-TvDqRhIhO",
        "colab_type": "code",
        "outputId": "74f2d4b8-80ce-4e63-af12-cc4aa3ec12d1",
        "colab": {
          "base_uri": "https://localhost:8080/",
          "height": 68
        }
      },
      "source": [
        "L = 1000 # Taking a smaller L to keep things simple.\n",
        "rho = 0.14\n",
        "V = []\n",
        "Ng = []\n",
        "\n",
        "out = simulation(rho=rho, test=0, save_run=True)\n",
        "\n",
        "len(V), len(Ng)"
      ],
      "execution_count": 28,
      "outputs": [
        {
          "output_type": "stream",
          "text": [
            "Running simulation for rho = 0.14\n",
            "{'Early stopping triggered at iteration 338 for rho=0.14.'}\n"
          ],
          "name": "stdout"
        },
        {
          "output_type": "execute_result",
          "data": {
            "text/plain": [
              "(340, 340)"
            ]
          },
          "metadata": {
            "tags": []
          },
          "execution_count": 28
        }
      ]
    },
    {
      "cell_type": "code",
      "metadata": {
        "id": "eOcAGFDBLyMK",
        "colab_type": "code",
        "colab": {}
      },
      "source": [
        "Vmat = np.r_[V].reshape((len(V), np.int(rho * L))).astype(int)\n",
        "Ngmat = np.r_[Ng].reshape(len(Ng), np.int(rho * L)).astype(int)\n",
        "\n",
        "road_history = np.zeros((len(V), int(3 * L + 30)), dtype=int)\n",
        "\n",
        "assert np.all(Vmat[0, :] == V[0])\n",
        "assert np.all(Vmat[-1, :] == V[-1])\n",
        "assert np.all(Ngmat[0, :] == Ng[0])\n",
        "assert np.all(Ngmat[-1, :] == Ng[-1])"
      ],
      "execution_count": 0,
      "outputs": []
    },
    {
      "cell_type": "code",
      "metadata": {
        "id": "PKA1N1DZLCgx",
        "colab_type": "code",
        "colab": {}
      },
      "source": [
        "def get_history(Vmat, Ngmat):\n",
        "  \n",
        "\n",
        "  num_of_cars = np.int(rho * L)\n",
        "  iterations = Vmat.shape[0] # no. of iterations from simulation.\n",
        "\n",
        "  # Matrix to store position index of each car on the road.\n",
        "  # Each row represents each iteration.\n",
        "  pos_history = np.zeros((iterations, num_of_cars), dtype=int)\n",
        "\n",
        "  for car in range(0, num_of_cars):\n",
        "\n",
        "    # When we try to update the position of the leftmost car on the road,\n",
        "    # it moves quite far over each iteration and thereby we end up with \n",
        "    # a huge road since beginning of time. \n",
        "    # Instead, we keep the right most car fixed and study the rest of the traffic\n",
        "    # with respoect to the rightmost car.  \n",
        "\n",
        "    if car == 0:\n",
        "      pos_history[:, car] = np.cumsum(Vmat[:, 0])\n",
        "      continue\n",
        "    \n",
        "    # Update a given car's position as previous car's position + \n",
        "    # previous car's gap\n",
        "    pos_history[:, car] = pos_history[:, car-1] + Ngmat[:, car-1]\n",
        "\n",
        "  # make sure that the final position of leftmost car at the end of all\n",
        "  # iterations is below 2L (a heuristic for sanity check. :) )\n",
        "  # assert np.all(pos_history <= (L + 5 * iterations))\n",
        "\n",
        "  road_history = np.zeros((Vmat.shape[0], np.max(pos_history) + 1), dtype=int)\n",
        "\n",
        "  # Set the position equal to 1 on the road for each iteration.\n",
        "  for row in range(iterations):\n",
        "    road_history[row, pos_history[row]] = 1\n",
        "  \n",
        "  # Returning pos_history for debugging purposes. Otherwise, we are interested\n",
        "  # in road_history only.\n",
        "  return pos_history, road_history"
      ],
      "execution_count": 0,
      "outputs": []
    },
    {
      "cell_type": "code",
      "metadata": {
        "id": "nOd7GtEkUAaU",
        "colab_type": "code",
        "colab": {}
      },
      "source": [
        "_, road_history = get_history(Vmat, Ngmat)"
      ],
      "execution_count": 0,
      "outputs": []
    },
    {
      "cell_type": "code",
      "metadata": {
        "id": "JiqBwBxcYJ0B",
        "colab_type": "code",
        "colab": {
          "base_uri": "https://localhost:8080/",
          "height": 191
        },
        "outputId": "1d3260f3-23d1-42a8-ba79-103923560cf9"
      },
      "source": [
        "title_text = \"\"\"Fig {}: Flow of traffic with time. \\\n",
        "Traffic is moving from left to right. \\\n",
        "Time increasing from top to bottom.\"\"\".format(2)\n",
        "\n",
        "plt.figure(figsize=(20, 10))\n",
        "plt.matshow(road_history, cmap='Greys', aspect='auto')\n",
        "plt.xlabel('Flow of traffic')\n",
        "plt.ylabel('Iterations or Time')\n",
        "plt.title(title_text, y=-.16)\n",
        "plt.show()"
      ],
      "execution_count": 63,
      "outputs": [
        {
          "output_type": "display_data",
          "data": {
            "text/plain": [
              "<Figure size 1440x720 with 0 Axes>"
            ]
          },
          "metadata": {
            "tags": []
          }
        },
        {
          "output_type": "display_data",
          "data": {
            "image/png": "[encoded data removed]",
            "text/plain": [
              "<Figure size 1152x144 with 1 Axes>"
            ]
          },
          "metadata": {
            "tags": [],
            "needs_background": "light"
          }
        }
      ]
    },
    {
      "cell_type": "code",
      "metadata": {
        "id": "Evjbz5Jrcdpt",
        "colab_type": "code",
        "colab": {
          "base_uri": "https://localhost:8080/",
          "height": 319
        },
        "outputId": "3884afa0-afdf-4627-e8d0-2ee20d8275d8"
      },
      "source": [
        "title_text = \"\"\"Fig {}: Flow of traffic with time. \\\n",
        "Traffic is moving from left to right. \\\n",
        "Time increasing from top to bottom. \\\n",
        "We are looking at a short segment of the road between 500 and 1000 \\\n",
        "and for the first 200 time steps.\"\"\".format(3)\n",
        "\n",
        "plt.figure(figsize=(20, 10))\n",
        "plt.matshow(road_history[:200, 500:1000], cmap='Greys')\n",
        "plt.xlabel('Flow of traffic')\n",
        "plt.ylabel('Iterations or Time')\n",
        "plt.title(title_text, y=-.15)\n",
        "plt.show()"
      ],
      "execution_count": 59,
      "outputs": [
        {
          "output_type": "display_data",
          "data": {
            "text/plain": [
              "<Figure size 1440x720 with 0 Axes>"
            ]
          },
          "metadata": {
            "tags": []
          }
        },
        {
          "output_type": "display_data",
          "data": {
            "image/png": "[encoded data removed]",
            "text/plain": [
              "<Figure size 720x288 with 1 Axes>"
            ]
          },
          "metadata": {
            "tags": [],
            "needs_background": "light"
          }
        }
      ]
    },
    {
      "cell_type": "code",
      "metadata": {
        "id": "oLuu0uspchCe",
        "colab_type": "code",
        "colab": {}
      },
      "source": [
        ""
      ],
      "execution_count": 0,
      "outputs": []
    },
    {
      "cell_type": "code",
      "metadata": {
        "id": "uaKoY2mMBGbe",
        "colab_type": "code",
        "colab": {}
      },
      "source": [
        ""
      ],
      "execution_count": 0,
      "outputs": []
    },
    {
      "cell_type": "code",
      "metadata": {
        "id": "5geAv8jfJS7u",
        "colab_type": "code",
        "colab": {}
      },
      "source": [
        ""
      ],
      "execution_count": 0,
      "outputs": []
    }
  ]
}