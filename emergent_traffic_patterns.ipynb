{
  "nbformat": 4,
  "nbformat_minor": 0,
  "metadata": {
    "colab": {
      "name": "emergent_traffic_patterns.ipynb",
      "provenance": [],
      "collapsed_sections": [],
      "toc_visible": true
    },
    "kernelspec": {
      "name": "python3",
      "display_name": "Python 3"
    }
  },
  "cells": [
    {
      "cell_type": "markdown",
      "metadata": {
        "id": "w1Bc9QLulr85",
        "colab_type": "text"
      },
      "source": [
        "# Emergent Traffic Patterns"
      ]
    },
    {
      "cell_type": "code",
      "metadata": {
        "id": "-ukACg_7gdMU",
        "colab_type": "code",
        "colab": {}
      },
      "source": [
        "import random\n",
        "import numpy as np\n",
        "import pandas as pd\n",
        "from collections import Counter\n",
        "import seaborn as sns\n",
        "import matplotlib.pyplot as plt"
      ],
      "execution_count": 0,
      "outputs": []
    },
    {
      "cell_type": "code",
      "metadata": {
        "id": "vAy2E1bShQJS",
        "colab_type": "code",
        "colab": {}
      },
      "source": [
        "# Declare global variables\n",
        "L = 30000\n",
        "V_MAX = 5\n",
        "INIT_N_GAP_MAX = 100 # Chosen randomly for max gap.\n",
        "MAX_ITER = 3 * 10**6\n",
        "TRANSIENT = 5 * 10**5 # Number of iterations after which we start recording\n",
        "STEP = 2500 # Record for every 2500 iterations\n",
        "SEED = 1234 # to ensure every run is the same. \n",
        "RHO_MIN = 0.04\n",
        "RHO_MAX = 0.06\n",
        "RHO_STEPS = 2"
      ],
      "execution_count": 0,
      "outputs": []
    },
    {
      "cell_type": "code",
      "metadata": {
        "id": "5j6gjh4YstPh",
        "colab_type": "code",
        "colab": {}
      },
      "source": [
        "random.seed(SEED)"
      ],
      "execution_count": 0,
      "outputs": []
    },
    {
      "cell_type": "code",
      "metadata": {
        "id": "_tg5P3MPFpMD",
        "colab_type": "code",
        "colab": {}
      },
      "source": [
        "def update_velocity(v, n_gap):\n",
        "  \"\"\" Function to update velocity \"\"\"\n",
        "    \n",
        "  if (v == V_MAX) and (n_gap >= V_MAX):\n",
        "    return v\n",
        "  elif n_gap >= v + 1:\n",
        "    return v + round(random.randint(0, 1))  # v or v +1; chosen randomly\n",
        "  elif n_gap == v:\n",
        "    return v\n",
        "  elif n_gap <= v - 1:\n",
        "    return n_gap + round(random.randint(0, 1)) * max(n_gap - 1, 0)\n",
        "  else:\n",
        "        print(\"Update_velocity: unknown edge case!\")\n",
        "\n",
        "\n",
        "def update_velocity_vectorized(v, n_gap):\n",
        "\n",
        "    acceleration_mask = (n_gap >= (v + 1))\n",
        "    v[acceleration_mask] = v[acceleration_mask] + round(random.randint(0, 1))\n",
        "\n",
        "    decelerate_mask = (n_gap <= (v - 1))\n",
        "    mask_size = np.sum(decelerate_mask)\n",
        "    v[decelerate_mask] = n_gap[decelerate_mask] - np.random.randint(0, 2, size=mask_size \n",
        "    ) * np.fmax(n_gap[decelerate_mask] - 1, np.zeros(shape=mask_size))\n",
        "\n",
        "    return v\n",
        "\n",
        "\n",
        "def update_n_gap(new_state, n_gap_old):\n",
        "  \"\"\" update n_gap \"\"\"\n",
        "\n",
        "  temp = n_gap_old - new_state\n",
        "  return temp + np.append(temp[1:], 100) # 100 is chosen heuristically."
      ],
      "execution_count": 0,
      "outputs": []
    },
    {
      "cell_type": "code",
      "metadata": {
        "id": "0lnrWXroKbRb",
        "colab_type": "code",
        "colab": {}
      },
      "source": [
        "# Initializating states for each rho\n",
        "\n",
        "init_state_vel = []\n",
        "init_state_n_gap = []\n",
        "\n",
        "for rho in np.linspace(RHO_MIN, RHO_MAX, RHO_STEPS): # [0.04, 0.06]\n",
        "  \n",
        "  N = np.int(rho * L) # number of cars\n",
        "\n",
        "  init_state_vel.append(np.random.randint(low=0, high=V_MAX + 1, size = N)) # randomly generate velocities for each car\n",
        "\n",
        "  # Maybe there is a better way to do this. Maybe at the end.\n",
        "  gaps = np.random.randint(low=0, high=round((L - N) / 100), size=N) # randomly generate gaps for each car\n",
        "  gaps = np.round(gaps * ((L-N) / np.sum(gaps))) # normalize\n",
        "  init_state_n_gap.append(gaps)"
      ],
      "execution_count": 0,
      "outputs": []
    },
    {
      "cell_type": "code",
      "metadata": {
        "id": "f3Wggr6ACh66",
        "colab_type": "code",
        "outputId": "9d163946-5b64-481e-b9ce-24f90071d27b",
        "colab": {
          "base_uri": "https://localhost:8080/",
          "height": 68
        }
      },
      "source": [
        "# Simulation\n",
        "\n",
        "j = []\n",
        "for i in range(RHO_STEPS):\n",
        "  \n",
        "  print('Updating {0}th rho'.format(i))\n",
        "\n",
        "  j_i = []\n",
        "  \n",
        "  for iter_ in range(MAX_ITER):\n",
        "    \n",
        "    new_state_velocity = update_velocity_vectorized(\n",
        "        v=init_state_vel[i], \n",
        "        n_gap=init_state_n_gap[i]\n",
        "    )\n",
        "\n",
        "    new_state_n_gap = update_n_gap(new_state=new_state_velocity,\n",
        "                                    n_gap_old=init_state_n_gap[i])\n",
        "    \n",
        "    init_state_vel[i] = new_state_velocity\n",
        "    init_state_n_gap[i] = new_state_n_gap\n",
        "\n",
        "    if (iter_ > TRANSIENT) and ((iter_ - TRANSIENT) % STEP) == 0:\n",
        "      j_i.append(np.sum(init_state_vel[i]) / L) # save the average_velocity\n",
        "\n",
        "  j.append(j_i)\n",
        "\n",
        "print('Done!')"
      ],
      "execution_count": 0,
      "outputs": [
        {
          "output_type": "stream",
          "text": [
            "Updating 0th rho\n"
          ],
          "name": "stdout"
        },
        {
          "output_type": "stream",
          "text": [
            "/usr/local/lib/python3.6/dist-packages/ipykernel_launcher.py:33: RuntimeWarning: overflow encountered in add\n"
          ],
          "name": "stderr"
        },
        {
          "output_type": "stream",
          "text": [
            "Updating 1th rho\n"
          ],
          "name": "stdout"
        }
      ]
    },
    {
      "cell_type": "code",
      "metadata": {
        "id": "0qbAYIrS0c3o",
        "colab_type": "code",
        "outputId": "2e1a98b1-3b77-4c25-f0ae-12db16c50a96",
        "colab": {
          "base_uri": "https://localhost:8080/",
          "height": 34
        }
      },
      "source": [
        "np.mean(j[0]), np.mean(j[1])"
      ],
      "execution_count": 0,
      "outputs": [
        {
          "output_type": "execute_result",
          "data": {
            "text/plain": [
              "(34924.22477087087, 52460.73014934934)"
            ]
          },
          "metadata": {
            "tags": []
          },
          "execution_count": 65
        }
      ]
    },
    {
      "cell_type": "code",
      "metadata": {
        "id": "fQFbGZYoh7tT",
        "colab_type": "code",
        "outputId": "cd3621f4-1eb9-4df4-8d27-0da4cc06a8b3",
        "colab": {
          "base_uri": "https://localhost:8080/",
          "height": 265
        }
      },
      "source": [
        "sns.lineplot(x=range(len(j[1])), y=j[1])\n",
        "plt.show()"
      ],
      "execution_count": 0,
      "outputs": [
        {
          "output_type": "display_data",
          "data": {
            "image/png": "[encoded data removed]",
            "text/plain": [
              "<Figure size 432x288 with 1 Axes>"
            ]
          },
          "metadata": {
            "tags": []
          }
        }
      ]
    },
    {
      "cell_type": "code",
      "metadata": {
        "id": "tKMDe24Wrtvm",
        "colab_type": "code",
        "outputId": "0234c501-8747-43d2-8260-ba00c0848bdd",
        "colab": {
          "base_uri": "https://localhost:8080/",
          "height": 34
        }
      },
      "source": [
        "1200 * 5 / L"
      ],
      "execution_count": 0,
      "outputs": [
        {
          "output_type": "execute_result",
          "data": {
            "text/plain": [
              "0.2"
            ]
          },
          "metadata": {
            "tags": []
          },
          "execution_count": 66
        }
      ]
    },
    {
      "cell_type": "code",
      "metadata": {
        "id": "suwhs7ks1d2s",
        "colab_type": "code",
        "outputId": "b8958e57-8fec-4922-aabd-9a3550be3cce",
        "colab": {
          "base_uri": "https://localhost:8080/",
          "height": 34
        }
      },
      "source": [
        "init_state_vel[i]"
      ],
      "execution_count": 0,
      "outputs": [
        {
          "output_type": "execute_result",
          "data": {
            "text/plain": [
              "array([1500896, 1500898, 1500899, ...,       0,       0,     100])"
            ]
          },
          "metadata": {
            "tags": []
          },
          "execution_count": 67
        }
      ]
    },
    {
      "cell_type": "code",
      "metadata": {
        "id": "DVs_vjWL1mAk",
        "colab_type": "code",
        "colab": {}
      },
      "source": [
        ""
      ],
      "execution_count": 0,
      "outputs": []
    }
  ]
}