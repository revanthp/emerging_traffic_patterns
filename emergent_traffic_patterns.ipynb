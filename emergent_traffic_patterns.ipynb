{
  "nbformat": 4,
  "nbformat_minor": 0,
  "metadata": {
    "colab": {
      "name": "emergent_traffic_patterns.ipynb",
      "provenance": [],
      "collapsed_sections": [],
      "include_colab_link": true
    },
    "kernelspec": {
      "name": "python3",
      "display_name": "Python 3"
    }
  },
  "cells": [
    {
      "cell_type": "markdown",
      "metadata": {
        "id": "view-in-github",
        "colab_type": "text"
      },
      "source": [
        "<a href=\"https://colab.research.google.com/github/revanthp/emerging_traffic_patterns/blob/master/emergent_traffic_patterns.ipynb\" target=\"_parent\"><img src=\"https://colab.research.google.com/assets/colab-badge.svg\" alt=\"Open In Colab\"/></a>"
      ]
    },
    {
      "cell_type": "markdown",
      "metadata": {
        "id": "w1Bc9QLulr85",
        "colab_type": "text"
      },
      "source": [
        "# Emergent Traffic Patterns"
      ]
    },
    {
      "cell_type": "code",
      "metadata": {
        "id": "-ukACg_7gdMU",
        "colab_type": "code",
        "colab": {
          "base_uri": "https://localhost:8080/",
          "height": 51
        },
        "outputId": "8038dfe0-6ce9-4998-bbbd-8083aa9ba484"
      },
      "source": [
        "import warnings\n",
        "warnings.filterwarnings(\"ignore\", message=\"FutureWarning\")\n",
        "\n",
        "import random\n",
        "import numpy as np\n",
        "import pandas as pd\n",
        "import seaborn as sns\n",
        "import matplotlib.pyplot as plt\n",
        "from multiprocessing import Pool\n",
        "from collections import Counter"
      ],
      "execution_count": 1,
      "outputs": [
        {
          "output_type": "stream",
          "text": [
            "/usr/local/lib/python3.6/dist-packages/statsmodels/tools/_testing.py:19: FutureWarning: pandas.util.testing is deprecated. Use the functions in the public API at pandas.testing instead.\n",
            "  import pandas.util.testing as tm\n"
          ],
          "name": "stderr"
        }
      ]
    },
    {
      "cell_type": "code",
      "metadata": {
        "id": "vAy2E1bShQJS",
        "colab_type": "code",
        "colab": {}
      },
      "source": [
        "# Declare global variables\n",
        "L = 30000\n",
        "V_MAX = 5\n",
        "INIT_N_GAP_MAX = 100 # Chosen randomly for max gap.\n",
        "MAX_ITER = 3 * 10**6\n",
        "TRANSIENT = 5 * 10**5 # Number of iterations after which we start recording\n",
        "STEP = 2500 # Record for every 2500 iterations\n",
        "SEED = 1234 # to ensure every run is the same. \n",
        "RHO_MIN = 0.04\n",
        "RHO_MAX = 0.14\n",
        "RHO_STEPS = 11"
      ],
      "execution_count": 0,
      "outputs": []
    },
    {
      "cell_type": "code",
      "metadata": {
        "id": "wVjbjJMkMfu9",
        "colab_type": "code",
        "colab": {}
      },
      "source": [
        "# spare code for testing\n",
        "# N = 6\n",
        "# # temp_vel = np.random.randint(low=0, high=V_MAX + 1, size = N)\n",
        "# # temp_ngap = np.random.randint(low=0, high=round(L-N), size=N)\n",
        "# # temp_ngap = np.round(temp_ngap * ((L-N) / np.sum(temp_ngap)))\n",
        "\n",
        "# temp_vel =np.array([5, 5, 3, 2, 4, 5])\n",
        "# temp_ngap = np.array([5, 6, 4, 6, 3, 2])\n",
        "\n",
        "# # assert all(update_velocity(temp_vel, temp_ngap) == update_velocity_vectorized(temp_vel, temp_ngap))\n",
        "# np.random.seed(1234)\n",
        "# [update_velocity(v, n) for v, n in zip(temp_vel, temp_ngap)]"
      ],
      "execution_count": 0,
      "outputs": []
    },
    {
      "cell_type": "code",
      "metadata": {
        "colab_type": "code",
        "id": "uPW0Yyxe_aRY",
        "colab": {}
      },
      "source": [
        "V = []\n",
        "Ng = []\n",
        "\n",
        "# Simulation\n",
        "def simulation(rho=0.04, test=0, save_run=False):\n",
        "  \n",
        "    print('Running simulation for rho = {0}'.format(rho))\n",
        "  \n",
        "    # set random seed to keep things consistent between runs\n",
        "    np.random.seed(1234)\n",
        "    \n",
        "    # number of cars for a rho\n",
        "    N = np.int(rho * L)\n",
        "\n",
        "    # randomly generate velocities and ngaps for each car\n",
        "    if test==5:\n",
        "      v = (np.ones(N) * 5).reshape((1, -1))\n",
        "      ngaps = (np.ones(N) * 5).reshape((1, -1))\n",
        "    else:\n",
        "      v = np.random.randint(low=0, high=(V_MAX + 1), size=N).reshape((1, -1))\n",
        "      ngaps = np.random.randint(low=0, high=(L - N), size=N).reshape((1, -1))\n",
        "      # normalize the gaps to sum to (length of car - total num. of car).\n",
        "      ngaps = np.round(ngaps * (L-N) / np.sum(ngaps)).astype(int).reshape((1, -1))\n",
        "\n",
        "    if save_run:\n",
        "      V.append(v)\n",
        "      Ng.append(ngaps)\n",
        "\n",
        "    # list to store current_density at every 2500 time steps.\n",
        "    j_i = []\n",
        "  \n",
        "    # update car position max. iteration times.\n",
        "    for iter_ in range(MAX_ITER):\n",
        "\n",
        "        # boolean array identifying cars about to accelerate as True and rest as False.\n",
        "        acc_mask = (ngaps >= (v + 1)) & (v < V_MAX)\n",
        "\n",
        "        # boolean array identifying cars about to deaccelerate as True and rest as False.\n",
        "        deacc_mask = (ngaps <= (v - 1)) & ~acc_mask\n",
        "        \n",
        "        # Update velocity for accelerating cars.\n",
        "        v[acc_mask] += np.random.randint(0, 2, np.sum(acc_mask))\n",
        "\n",
        "        # Update velocity for deaccelerating cars.\n",
        "        v[deacc_mask] = np.fmax(0, ngaps[deacc_mask] - np.random.randint(0, 2, np.sum(deacc_mask)))\n",
        "\n",
        "        # update ngaps for each car.\n",
        "        ngaps = ngaps - v + np.append(v[0, 1:], V_MAX).reshape((1, -1)) # The front most car has no traffic\n",
        "\n",
        "        if save_run:\n",
        "          V.append(v)\n",
        "          Ng.append(ngaps)\n",
        "\n",
        "        if test==5 and iter_ <= 5:\n",
        "          continue\n",
        "\n",
        "        # if all cars are moving at maximum speed and have enough gap to move, \n",
        "        # then we have reached a stationary state and j = rho * V_MAX,\n",
        "        # and we stop the simulation.\n",
        "        if np.all(v == V_MAX) & np.all(ngaps >= V_MAX):\n",
        "            print({'Early stopping triggered at iteration {0} for rho={1}.'.format(iter_, rho)})\n",
        "            return {rho: np.round(rho * V_MAX, 3)}\n",
        "            \n",
        "        # Record current denisty after TRANSIENT and for every 2500 steps.\n",
        "        if (iter_ >= TRANSIENT) and ((iter_ % STEP) == 0):\n",
        "            j_i.append(np.sum(v) / L) # save the average_velocity\n",
        "\n",
        "    # Return the average of current densities for a given rho\n",
        "    return {rho:np.round(np.mean(j_i), 3)}"
      ],
      "execution_count": 0,
      "outputs": []
    },
    {
      "cell_type": "code",
      "metadata": {
        "id": "1c3GW42yqBZg",
        "colab_type": "code",
        "colab": {}
      },
      "source": [
        "# # Simulation for each rho is run on a separate core.\n",
        "# p = Pool(RHO_STEPS)\n",
        "# out = p.map(simulation, np.linspace(RHO_MIN, RHO_MAX, RHO_STEPS))"
      ],
      "execution_count": 0,
      "outputs": []
    },
    {
      "cell_type": "code",
      "metadata": {
        "id": "3Jz8ERnpqEh_",
        "colab_type": "code",
        "colab": {}
      },
      "source": [
        "# # Convert list of dictionary to dictionary.\n",
        "# results = dict()\n",
        "# [results.update(x) for x in out];\n",
        "# results"
      ],
      "execution_count": 0,
      "outputs": []
    },
    {
      "cell_type": "code",
      "metadata": {
        "id": "TKqdzZqHqHU5",
        "colab_type": "code",
        "colab": {}
      },
      "source": [
        "# # Plotting.\n",
        "# plt.plot(list(results.keys()), list(results.values()), 'x')\n",
        "# plt.plot([RHO_MIN, RHO_MAX], [RHO_MIN * V_MAX, RHO_MAX * V_MAX], '--', color='grey')\n",
        "# plt.xlim([RHO_MIN, RHO_MAX])\n",
        "# plt.ylim([0, RHO_MAX * V_MAX])\n",
        "# plt.title('Current density vs rho')\n",
        "# plt.xlabel('rho')\n",
        "# plt.ylabel('current density j(rho)')\n",
        "# plt.show()"
      ],
      "execution_count": 0,
      "outputs": []
    },
    {
      "cell_type": "markdown",
      "metadata": {
        "id": "Ksnbva9JwNEM",
        "colab_type": "text"
      },
      "source": [
        "## Simulating traffic evolution with initial constraint of rho=0.14\n",
        "\n"
      ]
    },
    {
      "cell_type": "code",
      "metadata": {
        "id": "7h-TvDqRhIhO",
        "colab_type": "code",
        "outputId": "d9d01d0d-e880-43f0-84f4-c15279afd7b0",
        "colab": {
          "base_uri": "https://localhost:8080/",
          "height": 68
        }
      },
      "source": [
        "L = 100 # Taking a smaller L to keep things simple.\n",
        "rho = 0.14\n",
        "V = []\n",
        "Ng = []\n",
        "\n",
        "out = simulation(rho=rho, test=0, save_run=True)\n",
        "\n",
        "len(V), len(Ng)"
      ],
      "execution_count": 35,
      "outputs": [
        {
          "output_type": "stream",
          "text": [
            "Running simulation for rho = 0.14\n",
            "{'Early stopping triggered at iteration 34 for rho=0.14.'}\n"
          ],
          "name": "stdout"
        },
        {
          "output_type": "execute_result",
          "data": {
            "text/plain": [
              "(36, 36)"
            ]
          },
          "metadata": {
            "tags": []
          },
          "execution_count": 35
        }
      ]
    },
    {
      "cell_type": "code",
      "metadata": {
        "id": "eOcAGFDBLyMK",
        "colab_type": "code",
        "colab": {}
      },
      "source": [
        "Vmat = np.r_[V].reshape((len(V), np.int(rho * L))).astype(int)\n",
        "Ngmat = np.r_[Ng].reshape(len(Ng), np.int(rho * L)).astype(int)\n",
        "\n",
        "road_history = np.zeros((len(V), int(3 * L + 30)), dtype=int)\n",
        "pos_history = np.zeros((len(V), np.int(rho * L)), dtype=int)\n",
        "\n",
        "assert np.all(Vmat[0, :] == V[0])\n",
        "assert np.all(Vmat[-1, :] == V[-1])\n",
        "assert np.all(Ngmat[0, :] == Ng[0])\n",
        "assert np.all(Ngmat[-1, :] == Ng[-1])"
      ],
      "execution_count": 0,
      "outputs": []
    },
    {
      "cell_type": "code",
      "metadata": {
        "id": "PKA1N1DZLCgx",
        "colab_type": "code",
        "colab": {}
      },
      "source": [
        "def get_history(Vmat, Ngmat, pos_history):\n",
        "  \n",
        "  delta_start = 0\n",
        "\n",
        "  for car in range(np.int(rho * L)):\n",
        "    if car == 0:\n",
        "      pos_history[:, car] = np.cumsum(Vmat[:, 0])\n",
        "      continue\n",
        "    pos_history[:, car] = pos_history[:, car-1] + Ngmat[:, car-1]\n",
        "\n",
        "  # return pos_history"
      ],
      "execution_count": 0,
      "outputs": []
    },
    {
      "cell_type": "code",
      "metadata": {
        "id": "nOd7GtEkUAaU",
        "colab_type": "code",
        "colab": {
          "base_uri": "https://localhost:8080/",
          "height": 34
        },
        "outputId": "969fbf9b-1bef-4d7f-bd54-e065a3a1c1d9"
      },
      "source": [
        "assert np.all(pos_history <= 3 * L)\n",
        "get_history(Vmat, Ngmat, pos_history)\n",
        "\n",
        "for row in range(len(V)):\n",
        "  road_history[row, pos_history[row]] = 1\n",
        "\n",
        "print(road_history.shape)"
      ],
      "execution_count": 51,
      "outputs": [
        {
          "output_type": "stream",
          "text": [
            "(36, 330)\n"
          ],
          "name": "stdout"
        }
      ]
    },
    {
      "cell_type": "code",
      "metadata": {
        "id": "JiqBwBxcYJ0B",
        "colab_type": "code",
        "colab": {
          "base_uri": "https://localhost:8080/",
          "height": 150
        },
        "outputId": "d8017df4-142c-42e3-8e90-1b1b820e3518"
      },
      "source": [
        "plt.matshow(road_history)\n",
        "plt.show()"
      ],
      "execution_count": 52,
      "outputs": [
        {
          "output_type": "display_data",
          "data": {
            "image/png": "[encoded data removed]",
            "text/plain": [
              "<Figure size 1152x144 with 1 Axes>"
            ]
          },
          "metadata": {
            "tags": [],
            "needs_background": "light"
          }
        }
      ]
    },
    {
      "cell_type": "code",
      "metadata": {
        "id": "Evjbz5Jrcdpt",
        "colab_type": "code",
        "colab": {}
      },
      "source": [
        ""
      ],
      "execution_count": 0,
      "outputs": []
    },
    {
      "cell_type": "code",
      "metadata": {
        "id": "oLuu0uspchCe",
        "colab_type": "code",
        "colab": {}
      },
      "source": [
        ""
      ],
      "execution_count": 0,
      "outputs": []
    },
    {
      "cell_type": "code",
      "metadata": {
        "id": "YAGGGH__cly1",
        "colab_type": "code",
        "colab": {}
      },
      "source": [
        ""
      ],
      "execution_count": 0,
      "outputs": []
    },
    {
      "cell_type": "code",
      "metadata": {
        "id": "VHgxg543eISn",
        "colab_type": "code",
        "colab": {}
      },
      "source": [
        ""
      ],
      "execution_count": 0,
      "outputs": []
    }
  ]
}