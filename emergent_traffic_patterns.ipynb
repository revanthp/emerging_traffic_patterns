{
  "nbformat": 4,
  "nbformat_minor": 0,
  "metadata": {
    "colab": {
      "name": "emergent_traffic_patterns.ipynb",
      "provenance": [],
      "collapsed_sections": [],
      "include_colab_link": true
    },
    "kernelspec": {
      "name": "python3",
      "display_name": "Python 3"
    }
  },
  "cells": [
    {
      "cell_type": "markdown",
      "metadata": {
        "id": "view-in-github",
        "colab_type": "text"
      },
      "source": [
        "<a href=\"https://colab.research.google.com/github/revanthp/emerging_traffic_patterns/blob/master/emergent_traffic_patterns.ipynb\" target=\"_parent\"><img src=\"https://colab.research.google.com/assets/colab-badge.svg\" alt=\"Open In Colab\"/></a>"
      ]
    },
    {
      "cell_type": "markdown",
      "metadata": {
        "id": "w1Bc9QLulr85",
        "colab_type": "text"
      },
      "source": [
        "# Emergent Traffic Patterns"
      ]
    },
    {
      "cell_type": "code",
      "metadata": {
        "id": "-ukACg_7gdMU",
        "colab_type": "code",
        "colab": {
          "base_uri": "https://localhost:8080/",
          "height": 51
        },
        "outputId": "6989105c-a463-463b-8d03-b3cb31035637"
      },
      "source": [
        "import random\n",
        "import numpy as np\n",
        "import pandas as pd\n",
        "from collections import Counter\n",
        "import seaborn as sns\n",
        "import matplotlib.pyplot as plt\n",
        "from multiprocessing import Pool"
      ],
      "execution_count": 14,
      "outputs": [
        {
          "output_type": "stream",
          "text": [
            "/usr/local/lib/python3.6/dist-packages/statsmodels/tools/_testing.py:19: FutureWarning: pandas.util.testing is deprecated. Use the functions in the public API at pandas.testing instead.\n",
            "  import pandas.util.testing as tm\n"
          ],
          "name": "stderr"
        }
      ]
    },
    {
      "cell_type": "code",
      "metadata": {
        "id": "vAy2E1bShQJS",
        "colab_type": "code",
        "colab": {}
      },
      "source": [
        "# Declare global variables\n",
        "L = 30000\n",
        "V_MAX = 5\n",
        "INIT_N_GAP_MAX = 100 # Chosen randomly for max gap.\n",
        "MAX_ITER = 3 * 10**6\n",
        "TRANSIENT = 5 * 10**5 # Number of iterations after which we start recording\n",
        "STEP = 2500 # Record for every 2500 iterations\n",
        "SEED = 1234 # to ensure every run is the same. \n",
        "RHO_MIN = 0.04\n",
        "RHO_MAX = 0.14\n",
        "RHO_STEPS = 11"
      ],
      "execution_count": 0,
      "outputs": []
    },
    {
      "cell_type": "code",
      "metadata": {
        "id": "wVjbjJMkMfu9",
        "colab_type": "code",
        "colab": {}
      },
      "source": [
        "# spare code for testing\n",
        "# N = 6\n",
        "# # temp_vel = np.random.randint(low=0, high=V_MAX + 1, size = N)\n",
        "# # temp_ngap = np.random.randint(low=0, high=round(L-N), size=N)\n",
        "# # temp_ngap = np.round(temp_ngap * ((L-N) / np.sum(temp_ngap)))\n",
        "\n",
        "# temp_vel =np.array([5, 5, 3, 2, 4, 5])\n",
        "# temp_ngap = np.array([5, 6, 4, 6, 3, 2])\n",
        "\n",
        "# # assert all(update_velocity(temp_vel, temp_ngap) == update_velocity_vectorized(temp_vel, temp_ngap))\n",
        "# np.random.seed(1234)\n",
        "# [update_velocity(v, n) for v, n in zip(temp_vel, temp_ngap)]"
      ],
      "execution_count": 0,
      "outputs": []
    },
    {
      "cell_type": "code",
      "metadata": {
        "id": "LYmMuR5_zIsA",
        "colab_type": "code",
        "colab": {}
      },
      "source": [
        "# Simulation\n",
        "def simulation(rho=0.04):\n",
        "  \n",
        "    print('Running simulation for rho = {0}'.format(rho))\n",
        "  \n",
        "    # set random seed to keep things consistent between runs\n",
        "    np.random.seed(1234)\n",
        "    \n",
        "    # number of cars for a rho\n",
        "    N = np.int(rho * L)\n",
        "\n",
        "    # randomly generate velocities for each car\n",
        "    v = np.random.randint(low=0, high=(V_MAX + 1), size=N).reshape((1, -1))\n",
        "    \n",
        "    # randomly generate the gap in front of each car\n",
        "    ngaps = np.random.randint(low=0, high=(L - N), size=N).reshape((1, -1))\n",
        "    \n",
        "    # normalize the gaps to sum to (length of car - total num. of car).\n",
        "    ngaps = np.round(ngaps * (L-N) / np.sum(ngaps)).astype(int).reshape((1, -1))\n",
        "\n",
        "    # list to store current_density at every 2500 time steps.\n",
        "    j_i = []\n",
        "  \n",
        "    # update car position max. iteration times.\n",
        "    for iter_ in range(MAX_ITER):\n",
        "\n",
        "        # boolean array identifying cars about to accelerate as True and rest as False.\n",
        "        acc_mask = (ngaps >= (v + 1)) & (v < V_MAX)\n",
        "        \n",
        "        # Update velocity for accelerating cars.\n",
        "        v[acc_mask] += np.random.randint(0, 2, np.sum(acc_mask))\n",
        "\n",
        "        # boolean array identifying cars about to deaccelerate as True and rest as False.\n",
        "        deacc_mask = (ngaps <= (v - 1)) & ~acc_mask\n",
        "\n",
        "        # Update velocity for deaccelerating cars.\n",
        "        v[deacc_mask] = np.fmax(0, ngaps[deacc_mask] - 1 * np.random.randint(0, 2, np.sum(deacc_mask)))\n",
        "\n",
        "        # update ngaps for each car.\n",
        "        ngaps = (ngaps - v) + np.append(v[1:], np.random.randint(0, V_MAX + 1, 1).squeeze())\n",
        "\n",
        "        # if all cars are moving at maximum speed and have enough gap to move, \n",
        "        # then we have reached a stationary state and j = rho * V_MAX,\n",
        "        # and we stop the simulation.\n",
        "        if np.all(v == V_MAX) & np.all(ngaps >= V_MAX):\n",
        "            print({'Early stopping triggered at iteration {0} for rho={1}.'.format(iter_, rho)})\n",
        "            return {rho: np.round(rho * V_MAX, 3)}\n",
        "            \n",
        "\n",
        "        # Record current denisty after TRANSIENT and for every 2500 steps.\n",
        "        if (iter_ >= TRANSIENT) and ((iter_ % STEP) == 0):\n",
        "            j_i.append(np.sum(v) / L) # save the average_velocity\n",
        "\n",
        "    # Return the average of current densities for a given rho\n",
        "    return {rho:np.round(np.mean(j_i), 3)}"
      ],
      "execution_count": 0,
      "outputs": []
    },
    {
      "cell_type": "code",
      "metadata": {
        "id": "1c3GW42yqBZg",
        "colab_type": "code",
        "outputId": "1367b22a-1e61-49fd-c4d6-4b444fc6eb2f",
        "colab": {
          "base_uri": "https://localhost:8080/",
          "height": 208
        }
      },
      "source": [
        "# Parallize code. \n",
        "# Simulation for each rho is run on a separate core.\n",
        "p = Pool(RHO_STEPS)\n",
        "out = p.map(simulation, np.linspace(RHO_MIN, RHO_MAX, RHO_STEPS))"
      ],
      "execution_count": 0,
      "outputs": [
        {
          "output_type": "stream",
          "text": [
            "Running simulation for rho: 0.06\n",
            "Running simulation for rho: 0.04\n",
            "Running simulation for rho: 0.14\n",
            "Running simulation for rho: 0.09\n",
            "Running simulation for rho: 0.13\n",
            "Running simulation for rho: 0.07\n",
            "Running simulation for rho: 0.12\n",
            "Running simulation for rho: 0.11000000000000001\n",
            "Running simulation for rho: 0.1\n",
            "Running simulation for rho: 0.05\n",
            "Running simulation for rho: 0.08\n"
          ],
          "name": "stdout"
        }
      ]
    },
    {
      "cell_type": "code",
      "metadata": {
        "id": "3Jz8ERnpqEh_",
        "colab_type": "code",
        "outputId": "34e5d79a-71f5-499a-d9fd-43dbe6a33283",
        "colab": {
          "base_uri": "https://localhost:8080/",
          "height": 208
        }
      },
      "source": [
        "# Convert list of dictionary to dictionary.\n",
        "results = dict()\n",
        "[results.update(x) for x in out];\n",
        "results"
      ],
      "execution_count": 0,
      "outputs": [
        {
          "output_type": "execute_result",
          "data": {
            "text/plain": [
              "{0.04: 0.1,\n",
              " 0.05: 0.125,\n",
              " 0.06: 0.15,\n",
              " 0.07: 0.175,\n",
              " 0.08: 0.2,\n",
              " 0.09: 0.225,\n",
              " 0.1: 0.25,\n",
              " 0.11000000000000001: 0.275,\n",
              " 0.12: 0.3,\n",
              " 0.13: 0.325,\n",
              " 0.14: 0.35}"
            ]
          },
          "metadata": {
            "tags": []
          },
          "execution_count": 13
        }
      ]
    },
    {
      "cell_type": "code",
      "metadata": {
        "id": "TKqdzZqHqHU5",
        "colab_type": "code",
        "outputId": "4f6f51ad-4872-44a2-ce02-6740f349a946",
        "colab": {
          "base_uri": "https://localhost:8080/",
          "height": 295
        }
      },
      "source": [
        "# Plotting.\n",
        "plt.plot(list(results.keys()), list(results.values()), 'x')\n",
        "plt.plot([RHO_MIN, RHO_MAX], [RHO_MIN * V_MAX, RHO_MAX * V_MAX], '--', color='grey')\n",
        "plt.xlim([RHO_MIN, RHO_MAX])\n",
        "plt.ylim([0, RHO_MAX * V_MAX])\n",
        "plt.title('Current density vs rho')\n",
        "plt.xlabel('rho')\n",
        "plt.ylabel('current density j(rho)')\n",
        "plt.show()"
      ],
      "execution_count": 0,
      "outputs": [
        {
          "output_type": "display_data",
          "data": {
            "image/png": "[encoded data removed]",
            "text/plain": [
              "<Figure size 432x288 with 1 Axes>"
            ]
          },
          "metadata": {
            "tags": []
          }
        }
      ]
    },
    {
      "cell_type": "code",
      "metadata": {
        "id": "M7ImmMovhCcY",
        "colab_type": "code",
        "colab": {
          "base_uri": "https://localhost:8080/",
          "height": 34
        },
        "outputId": "3ca79177-96fe-4e23-a06d-b00208256c11"
      },
      "source": [
        "out = simulation(0.04)"
      ],
      "execution_count": 46,
      "outputs": [
        {
          "output_type": "stream",
          "text": [
            "Running simulation for rho = 0.04\n"
          ],
          "name": "stdout"
        }
      ]
    },
    {
      "cell_type": "code",
      "metadata": {
        "id": "7uNwjrw-Rx1s",
        "colab_type": "code",
        "colab": {}
      },
      "source": [
        ""
      ],
      "execution_count": 0,
      "outputs": []
    }
  ]
}